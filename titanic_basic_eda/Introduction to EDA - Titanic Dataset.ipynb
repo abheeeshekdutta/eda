{
 "cells": [
  {
   "cell_type": "markdown",
   "id": "7a195d94",
   "metadata": {},
   "source": [
    "# 👋 Introduction to EDA - Hello ~World!~ [Titanic!](https://www.kaggle.com/c/titanic/overview)🚢"
   ]
  },
  {
   "cell_type": "markdown",
   "id": "71957474",
   "metadata": {},
   "source": [
    "### Hey there! This is an introductory notebook to help you understand some of the basic steps involved in a typical EDA workflow. ###\n",
    "\n",
    "**❓Wait, but what is EDA?**\n",
    "\n",
    "EDA stands for 'Exploratory data analysis'. It is one of the most important techniques in any data analysis workflow. EDA helps you to understand your data inside-out, across all the variables of the dataset. It gives you important information about your data, and will be extremely important during other key steps including data preparation and the modelling stage for machine learning.\n",
    "\n",
    "\n",
    "As per [Wikipedia](https://en.wikipedia.org/wiki/Exploratory_data_analysis)...\n",
    ">In statistics, exploratory data analysis is an approach of analyzing data sets to summarize their main characteristics, often using statistical graphics and other data visualization methods. A statistical model can be used or not, but primarily EDA is for seeing what the data can tell us beyond the formal modeling or hypothesis testing task."
   ]
  },
  {
   "cell_type": "markdown",
   "id": "f8c15aeb",
   "metadata": {},
   "source": [
    "## Let's see what we'll cover in this notebook ##"
   ]
  },
  {
   "cell_type": "markdown",
   "id": "34428589",
   "metadata": {},
   "source": [
    "1. Loading the required libraries and dataset\n",
    "2. Viewing sample records\n",
    "3. Basic structure of the dataset\n",
    "4. Missing values\n",
    "5. Checking for class imbalance\n",
    "6. Exploring individual features"
   ]
  },
  {
   "cell_type": "markdown",
   "id": "30f99f69",
   "metadata": {},
   "source": [
    "# 1.1 Loading the required libraries"
   ]
  },
  {
   "cell_type": "code",
   "execution_count": 1,
   "id": "6fb33c59",
   "metadata": {},
   "outputs": [],
   "source": [
    "import pandas as pd\n",
    "import numpy as np\n",
    "import seaborn as sns\n",
    "import matplotlib.pyplot as plt"
   ]
  },
  {
   "cell_type": "markdown",
   "id": "f6dca653",
   "metadata": {},
   "source": [
    "# 1.2 Loading the Titanic dataset\n",
    "In this step, we'll use **load_dataset()** function of the Seaborn library to load our Titanic dataset.\n",
    "\n",
    "**Tip**: To get a list of all datasets available through Seaborn, you can use the **get_dataset_names()** method:\n",
    "\n",
    "```\n",
    "sns.get_dataset_names()\n",
    "```"
   ]
  },
  {
   "cell_type": "code",
   "execution_count": 2,
   "id": "b67819f6",
   "metadata": {},
   "outputs": [],
   "source": [
    "#Storing our Titanic dataset into a Pandas dataframe named 'df'\n",
    "df = sns.load_dataset('titanic')"
   ]
  },
  {
   "cell_type": "markdown",
   "id": "90f731d4",
   "metadata": {},
   "source": [
    "# 2. Viewing a small set of records using different methods"
   ]
  },
  {
   "cell_type": "code",
   "execution_count": 3,
   "id": "4dab76b9",
   "metadata": {},
   "outputs": [
    {
     "data": {
      "text/html": [
       "<div>\n",
       "<style scoped>\n",
       "    .dataframe tbody tr th:only-of-type {\n",
       "        vertical-align: middle;\n",
       "    }\n",
       "\n",
       "    .dataframe tbody tr th {\n",
       "        vertical-align: top;\n",
       "    }\n",
       "\n",
       "    .dataframe thead th {\n",
       "        text-align: right;\n",
       "    }\n",
       "</style>\n",
       "<table border=\"1\" class=\"dataframe\">\n",
       "  <thead>\n",
       "    <tr style=\"text-align: right;\">\n",
       "      <th></th>\n",
       "      <th>survived</th>\n",
       "      <th>pclass</th>\n",
       "      <th>sex</th>\n",
       "      <th>age</th>\n",
       "      <th>sibsp</th>\n",
       "      <th>parch</th>\n",
       "      <th>fare</th>\n",
       "      <th>embarked</th>\n",
       "      <th>class</th>\n",
       "      <th>who</th>\n",
       "      <th>adult_male</th>\n",
       "      <th>deck</th>\n",
       "      <th>embark_town</th>\n",
       "      <th>alive</th>\n",
       "      <th>alone</th>\n",
       "    </tr>\n",
       "  </thead>\n",
       "  <tbody>\n",
       "    <tr>\n",
       "      <th>0</th>\n",
       "      <td>0</td>\n",
       "      <td>3</td>\n",
       "      <td>male</td>\n",
       "      <td>22.0</td>\n",
       "      <td>1</td>\n",
       "      <td>0</td>\n",
       "      <td>7.2500</td>\n",
       "      <td>S</td>\n",
       "      <td>Third</td>\n",
       "      <td>man</td>\n",
       "      <td>True</td>\n",
       "      <td>NaN</td>\n",
       "      <td>Southampton</td>\n",
       "      <td>no</td>\n",
       "      <td>False</td>\n",
       "    </tr>\n",
       "    <tr>\n",
       "      <th>1</th>\n",
       "      <td>1</td>\n",
       "      <td>1</td>\n",
       "      <td>female</td>\n",
       "      <td>38.0</td>\n",
       "      <td>1</td>\n",
       "      <td>0</td>\n",
       "      <td>71.2833</td>\n",
       "      <td>C</td>\n",
       "      <td>First</td>\n",
       "      <td>woman</td>\n",
       "      <td>False</td>\n",
       "      <td>C</td>\n",
       "      <td>Cherbourg</td>\n",
       "      <td>yes</td>\n",
       "      <td>False</td>\n",
       "    </tr>\n",
       "    <tr>\n",
       "      <th>2</th>\n",
       "      <td>1</td>\n",
       "      <td>3</td>\n",
       "      <td>female</td>\n",
       "      <td>26.0</td>\n",
       "      <td>0</td>\n",
       "      <td>0</td>\n",
       "      <td>7.9250</td>\n",
       "      <td>S</td>\n",
       "      <td>Third</td>\n",
       "      <td>woman</td>\n",
       "      <td>False</td>\n",
       "      <td>NaN</td>\n",
       "      <td>Southampton</td>\n",
       "      <td>yes</td>\n",
       "      <td>True</td>\n",
       "    </tr>\n",
       "    <tr>\n",
       "      <th>3</th>\n",
       "      <td>1</td>\n",
       "      <td>1</td>\n",
       "      <td>female</td>\n",
       "      <td>35.0</td>\n",
       "      <td>1</td>\n",
       "      <td>0</td>\n",
       "      <td>53.1000</td>\n",
       "      <td>S</td>\n",
       "      <td>First</td>\n",
       "      <td>woman</td>\n",
       "      <td>False</td>\n",
       "      <td>C</td>\n",
       "      <td>Southampton</td>\n",
       "      <td>yes</td>\n",
       "      <td>False</td>\n",
       "    </tr>\n",
       "    <tr>\n",
       "      <th>4</th>\n",
       "      <td>0</td>\n",
       "      <td>3</td>\n",
       "      <td>male</td>\n",
       "      <td>35.0</td>\n",
       "      <td>0</td>\n",
       "      <td>0</td>\n",
       "      <td>8.0500</td>\n",
       "      <td>S</td>\n",
       "      <td>Third</td>\n",
       "      <td>man</td>\n",
       "      <td>True</td>\n",
       "      <td>NaN</td>\n",
       "      <td>Southampton</td>\n",
       "      <td>no</td>\n",
       "      <td>True</td>\n",
       "    </tr>\n",
       "  </tbody>\n",
       "</table>\n",
       "</div>"
      ],
      "text/plain": [
       "   survived  pclass     sex   age  sibsp  parch     fare embarked  class  \\\n",
       "0         0       3    male  22.0      1      0   7.2500        S  Third   \n",
       "1         1       1  female  38.0      1      0  71.2833        C  First   \n",
       "2         1       3  female  26.0      0      0   7.9250        S  Third   \n",
       "3         1       1  female  35.0      1      0  53.1000        S  First   \n",
       "4         0       3    male  35.0      0      0   8.0500        S  Third   \n",
       "\n",
       "     who  adult_male deck  embark_town alive  alone  \n",
       "0    man        True  NaN  Southampton    no  False  \n",
       "1  woman       False    C    Cherbourg   yes  False  \n",
       "2  woman       False  NaN  Southampton   yes   True  \n",
       "3  woman       False    C  Southampton   yes  False  \n",
       "4    man        True  NaN  Southampton    no   True  "
      ]
     },
     "execution_count": 3,
     "metadata": {},
     "output_type": "execute_result"
    }
   ],
   "source": [
    "#Top n records of the dataframe\n",
    "df.head(n=5)"
   ]
  },
  {
   "cell_type": "code",
   "execution_count": 4,
   "id": "81255131",
   "metadata": {},
   "outputs": [
    {
     "data": {
      "text/html": [
       "<div>\n",
       "<style scoped>\n",
       "    .dataframe tbody tr th:only-of-type {\n",
       "        vertical-align: middle;\n",
       "    }\n",
       "\n",
       "    .dataframe tbody tr th {\n",
       "        vertical-align: top;\n",
       "    }\n",
       "\n",
       "    .dataframe thead th {\n",
       "        text-align: right;\n",
       "    }\n",
       "</style>\n",
       "<table border=\"1\" class=\"dataframe\">\n",
       "  <thead>\n",
       "    <tr style=\"text-align: right;\">\n",
       "      <th></th>\n",
       "      <th>survived</th>\n",
       "      <th>pclass</th>\n",
       "      <th>sex</th>\n",
       "      <th>age</th>\n",
       "      <th>sibsp</th>\n",
       "      <th>parch</th>\n",
       "      <th>fare</th>\n",
       "      <th>embarked</th>\n",
       "      <th>class</th>\n",
       "      <th>who</th>\n",
       "      <th>adult_male</th>\n",
       "      <th>deck</th>\n",
       "      <th>embark_town</th>\n",
       "      <th>alive</th>\n",
       "      <th>alone</th>\n",
       "    </tr>\n",
       "  </thead>\n",
       "  <tbody>\n",
       "    <tr>\n",
       "      <th>886</th>\n",
       "      <td>0</td>\n",
       "      <td>2</td>\n",
       "      <td>male</td>\n",
       "      <td>27.0</td>\n",
       "      <td>0</td>\n",
       "      <td>0</td>\n",
       "      <td>13.00</td>\n",
       "      <td>S</td>\n",
       "      <td>Second</td>\n",
       "      <td>man</td>\n",
       "      <td>True</td>\n",
       "      <td>NaN</td>\n",
       "      <td>Southampton</td>\n",
       "      <td>no</td>\n",
       "      <td>True</td>\n",
       "    </tr>\n",
       "    <tr>\n",
       "      <th>887</th>\n",
       "      <td>1</td>\n",
       "      <td>1</td>\n",
       "      <td>female</td>\n",
       "      <td>19.0</td>\n",
       "      <td>0</td>\n",
       "      <td>0</td>\n",
       "      <td>30.00</td>\n",
       "      <td>S</td>\n",
       "      <td>First</td>\n",
       "      <td>woman</td>\n",
       "      <td>False</td>\n",
       "      <td>B</td>\n",
       "      <td>Southampton</td>\n",
       "      <td>yes</td>\n",
       "      <td>True</td>\n",
       "    </tr>\n",
       "    <tr>\n",
       "      <th>888</th>\n",
       "      <td>0</td>\n",
       "      <td>3</td>\n",
       "      <td>female</td>\n",
       "      <td>NaN</td>\n",
       "      <td>1</td>\n",
       "      <td>2</td>\n",
       "      <td>23.45</td>\n",
       "      <td>S</td>\n",
       "      <td>Third</td>\n",
       "      <td>woman</td>\n",
       "      <td>False</td>\n",
       "      <td>NaN</td>\n",
       "      <td>Southampton</td>\n",
       "      <td>no</td>\n",
       "      <td>False</td>\n",
       "    </tr>\n",
       "    <tr>\n",
       "      <th>889</th>\n",
       "      <td>1</td>\n",
       "      <td>1</td>\n",
       "      <td>male</td>\n",
       "      <td>26.0</td>\n",
       "      <td>0</td>\n",
       "      <td>0</td>\n",
       "      <td>30.00</td>\n",
       "      <td>C</td>\n",
       "      <td>First</td>\n",
       "      <td>man</td>\n",
       "      <td>True</td>\n",
       "      <td>C</td>\n",
       "      <td>Cherbourg</td>\n",
       "      <td>yes</td>\n",
       "      <td>True</td>\n",
       "    </tr>\n",
       "    <tr>\n",
       "      <th>890</th>\n",
       "      <td>0</td>\n",
       "      <td>3</td>\n",
       "      <td>male</td>\n",
       "      <td>32.0</td>\n",
       "      <td>0</td>\n",
       "      <td>0</td>\n",
       "      <td>7.75</td>\n",
       "      <td>Q</td>\n",
       "      <td>Third</td>\n",
       "      <td>man</td>\n",
       "      <td>True</td>\n",
       "      <td>NaN</td>\n",
       "      <td>Queenstown</td>\n",
       "      <td>no</td>\n",
       "      <td>True</td>\n",
       "    </tr>\n",
       "  </tbody>\n",
       "</table>\n",
       "</div>"
      ],
      "text/plain": [
       "     survived  pclass     sex   age  sibsp  parch   fare embarked   class  \\\n",
       "886         0       2    male  27.0      0      0  13.00        S  Second   \n",
       "887         1       1  female  19.0      0      0  30.00        S   First   \n",
       "888         0       3  female   NaN      1      2  23.45        S   Third   \n",
       "889         1       1    male  26.0      0      0  30.00        C   First   \n",
       "890         0       3    male  32.0      0      0   7.75        Q   Third   \n",
       "\n",
       "       who  adult_male deck  embark_town alive  alone  \n",
       "886    man        True  NaN  Southampton    no   True  \n",
       "887  woman       False    B  Southampton   yes   True  \n",
       "888  woman       False  NaN  Southampton    no  False  \n",
       "889    man        True    C    Cherbourg   yes   True  \n",
       "890    man        True  NaN   Queenstown    no   True  "
      ]
     },
     "execution_count": 4,
     "metadata": {},
     "output_type": "execute_result"
    }
   ],
   "source": [
    "#Bottom n records of the dataframe\n",
    "df.tail(n=5)"
   ]
  },
  {
   "cell_type": "code",
   "execution_count": 5,
   "id": "48119ca1",
   "metadata": {},
   "outputs": [
    {
     "data": {
      "text/html": [
       "<div>\n",
       "<style scoped>\n",
       "    .dataframe tbody tr th:only-of-type {\n",
       "        vertical-align: middle;\n",
       "    }\n",
       "\n",
       "    .dataframe tbody tr th {\n",
       "        vertical-align: top;\n",
       "    }\n",
       "\n",
       "    .dataframe thead th {\n",
       "        text-align: right;\n",
       "    }\n",
       "</style>\n",
       "<table border=\"1\" class=\"dataframe\">\n",
       "  <thead>\n",
       "    <tr style=\"text-align: right;\">\n",
       "      <th></th>\n",
       "      <th>survived</th>\n",
       "      <th>pclass</th>\n",
       "      <th>sex</th>\n",
       "      <th>age</th>\n",
       "      <th>sibsp</th>\n",
       "      <th>parch</th>\n",
       "      <th>fare</th>\n",
       "      <th>embarked</th>\n",
       "      <th>class</th>\n",
       "      <th>who</th>\n",
       "      <th>adult_male</th>\n",
       "      <th>deck</th>\n",
       "      <th>embark_town</th>\n",
       "      <th>alive</th>\n",
       "      <th>alone</th>\n",
       "    </tr>\n",
       "  </thead>\n",
       "  <tbody>\n",
       "    <tr>\n",
       "      <th>754</th>\n",
       "      <td>1</td>\n",
       "      <td>2</td>\n",
       "      <td>female</td>\n",
       "      <td>48.0</td>\n",
       "      <td>1</td>\n",
       "      <td>2</td>\n",
       "      <td>65.0000</td>\n",
       "      <td>S</td>\n",
       "      <td>Second</td>\n",
       "      <td>woman</td>\n",
       "      <td>False</td>\n",
       "      <td>NaN</td>\n",
       "      <td>Southampton</td>\n",
       "      <td>yes</td>\n",
       "      <td>False</td>\n",
       "    </tr>\n",
       "    <tr>\n",
       "      <th>625</th>\n",
       "      <td>0</td>\n",
       "      <td>1</td>\n",
       "      <td>male</td>\n",
       "      <td>61.0</td>\n",
       "      <td>0</td>\n",
       "      <td>0</td>\n",
       "      <td>32.3208</td>\n",
       "      <td>S</td>\n",
       "      <td>First</td>\n",
       "      <td>man</td>\n",
       "      <td>True</td>\n",
       "      <td>D</td>\n",
       "      <td>Southampton</td>\n",
       "      <td>no</td>\n",
       "      <td>True</td>\n",
       "    </tr>\n",
       "    <tr>\n",
       "      <th>481</th>\n",
       "      <td>0</td>\n",
       "      <td>2</td>\n",
       "      <td>male</td>\n",
       "      <td>NaN</td>\n",
       "      <td>0</td>\n",
       "      <td>0</td>\n",
       "      <td>0.0000</td>\n",
       "      <td>S</td>\n",
       "      <td>Second</td>\n",
       "      <td>man</td>\n",
       "      <td>True</td>\n",
       "      <td>NaN</td>\n",
       "      <td>Southampton</td>\n",
       "      <td>no</td>\n",
       "      <td>True</td>\n",
       "    </tr>\n",
       "    <tr>\n",
       "      <th>535</th>\n",
       "      <td>1</td>\n",
       "      <td>2</td>\n",
       "      <td>female</td>\n",
       "      <td>7.0</td>\n",
       "      <td>0</td>\n",
       "      <td>2</td>\n",
       "      <td>26.2500</td>\n",
       "      <td>S</td>\n",
       "      <td>Second</td>\n",
       "      <td>child</td>\n",
       "      <td>False</td>\n",
       "      <td>NaN</td>\n",
       "      <td>Southampton</td>\n",
       "      <td>yes</td>\n",
       "      <td>False</td>\n",
       "    </tr>\n",
       "    <tr>\n",
       "      <th>671</th>\n",
       "      <td>0</td>\n",
       "      <td>1</td>\n",
       "      <td>male</td>\n",
       "      <td>31.0</td>\n",
       "      <td>1</td>\n",
       "      <td>0</td>\n",
       "      <td>52.0000</td>\n",
       "      <td>S</td>\n",
       "      <td>First</td>\n",
       "      <td>man</td>\n",
       "      <td>True</td>\n",
       "      <td>B</td>\n",
       "      <td>Southampton</td>\n",
       "      <td>no</td>\n",
       "      <td>False</td>\n",
       "    </tr>\n",
       "    <tr>\n",
       "      <th>303</th>\n",
       "      <td>1</td>\n",
       "      <td>2</td>\n",
       "      <td>female</td>\n",
       "      <td>NaN</td>\n",
       "      <td>0</td>\n",
       "      <td>0</td>\n",
       "      <td>12.3500</td>\n",
       "      <td>Q</td>\n",
       "      <td>Second</td>\n",
       "      <td>woman</td>\n",
       "      <td>False</td>\n",
       "      <td>E</td>\n",
       "      <td>Queenstown</td>\n",
       "      <td>yes</td>\n",
       "      <td>True</td>\n",
       "    </tr>\n",
       "    <tr>\n",
       "      <th>322</th>\n",
       "      <td>1</td>\n",
       "      <td>2</td>\n",
       "      <td>female</td>\n",
       "      <td>30.0</td>\n",
       "      <td>0</td>\n",
       "      <td>0</td>\n",
       "      <td>12.3500</td>\n",
       "      <td>Q</td>\n",
       "      <td>Second</td>\n",
       "      <td>woman</td>\n",
       "      <td>False</td>\n",
       "      <td>NaN</td>\n",
       "      <td>Queenstown</td>\n",
       "      <td>yes</td>\n",
       "      <td>True</td>\n",
       "    </tr>\n",
       "    <tr>\n",
       "      <th>581</th>\n",
       "      <td>1</td>\n",
       "      <td>1</td>\n",
       "      <td>female</td>\n",
       "      <td>39.0</td>\n",
       "      <td>1</td>\n",
       "      <td>1</td>\n",
       "      <td>110.8833</td>\n",
       "      <td>C</td>\n",
       "      <td>First</td>\n",
       "      <td>woman</td>\n",
       "      <td>False</td>\n",
       "      <td>C</td>\n",
       "      <td>Cherbourg</td>\n",
       "      <td>yes</td>\n",
       "      <td>False</td>\n",
       "    </tr>\n",
       "    <tr>\n",
       "      <th>82</th>\n",
       "      <td>1</td>\n",
       "      <td>3</td>\n",
       "      <td>female</td>\n",
       "      <td>NaN</td>\n",
       "      <td>0</td>\n",
       "      <td>0</td>\n",
       "      <td>7.7875</td>\n",
       "      <td>Q</td>\n",
       "      <td>Third</td>\n",
       "      <td>woman</td>\n",
       "      <td>False</td>\n",
       "      <td>NaN</td>\n",
       "      <td>Queenstown</td>\n",
       "      <td>yes</td>\n",
       "      <td>True</td>\n",
       "    </tr>\n",
       "    <tr>\n",
       "      <th>80</th>\n",
       "      <td>0</td>\n",
       "      <td>3</td>\n",
       "      <td>male</td>\n",
       "      <td>22.0</td>\n",
       "      <td>0</td>\n",
       "      <td>0</td>\n",
       "      <td>9.0000</td>\n",
       "      <td>S</td>\n",
       "      <td>Third</td>\n",
       "      <td>man</td>\n",
       "      <td>True</td>\n",
       "      <td>NaN</td>\n",
       "      <td>Southampton</td>\n",
       "      <td>no</td>\n",
       "      <td>True</td>\n",
       "    </tr>\n",
       "  </tbody>\n",
       "</table>\n",
       "</div>"
      ],
      "text/plain": [
       "     survived  pclass     sex   age  sibsp  parch      fare embarked   class  \\\n",
       "754         1       2  female  48.0      1      2   65.0000        S  Second   \n",
       "625         0       1    male  61.0      0      0   32.3208        S   First   \n",
       "481         0       2    male   NaN      0      0    0.0000        S  Second   \n",
       "535         1       2  female   7.0      0      2   26.2500        S  Second   \n",
       "671         0       1    male  31.0      1      0   52.0000        S   First   \n",
       "303         1       2  female   NaN      0      0   12.3500        Q  Second   \n",
       "322         1       2  female  30.0      0      0   12.3500        Q  Second   \n",
       "581         1       1  female  39.0      1      1  110.8833        C   First   \n",
       "82          1       3  female   NaN      0      0    7.7875        Q   Third   \n",
       "80          0       3    male  22.0      0      0    9.0000        S   Third   \n",
       "\n",
       "       who  adult_male deck  embark_town alive  alone  \n",
       "754  woman       False  NaN  Southampton   yes  False  \n",
       "625    man        True    D  Southampton    no   True  \n",
       "481    man        True  NaN  Southampton    no   True  \n",
       "535  child       False  NaN  Southampton   yes  False  \n",
       "671    man        True    B  Southampton    no  False  \n",
       "303  woman       False    E   Queenstown   yes   True  \n",
       "322  woman       False  NaN   Queenstown   yes   True  \n",
       "581  woman       False    C    Cherbourg   yes  False  \n",
       "82   woman       False  NaN   Queenstown   yes   True  \n",
       "80     man        True  NaN  Southampton    no   True  "
      ]
     },
     "execution_count": 5,
     "metadata": {},
     "output_type": "execute_result"
    }
   ],
   "source": [
    "#Random n records of the dataframe\n",
    "df.sample(n=10) #You can use the random_state parameter here for reproducibility"
   ]
  },
  {
   "cell_type": "markdown",
   "id": "ad0db550",
   "metadata": {},
   "source": [
    "# 3. Basic structure of the dataset\n"
   ]
  },
  {
   "cell_type": "markdown",
   "id": "2cdb0e4b",
   "metadata": {},
   "source": [
    "1. The **shape** attribute of the dataframe returns a tuple object where first element is the number of rows and second element is the number of columns\n",
    "2. The **info() method** gives details about individual columns in the dataframe, which includes column name, number of  non-null values and the column datatype\n",
    "3. The **describe() method** proves the statistical metrics for each of the numeric columns in the dataframe"
   ]
  },
  {
   "cell_type": "code",
   "execution_count": 6,
   "id": "4f0334e1",
   "metadata": {
    "scrolled": true
   },
   "outputs": [
    {
     "name": "stdout",
     "output_type": "stream",
     "text": [
      "(891, 15)\n",
      "<class 'tuple'>\n",
      "Number of rows is : 891\n",
      "Number of columns is : 15\n"
     ]
    }
   ],
   "source": [
    "print(df.shape)\n",
    "print(type(df.shape))\n",
    "print('Number of rows is :',df.shape[0])\n",
    "print('Number of columns is :',df.shape[1])"
   ]
  },
  {
   "cell_type": "code",
   "execution_count": 7,
   "id": "374cdfc8",
   "metadata": {
    "scrolled": false
   },
   "outputs": [
    {
     "name": "stdout",
     "output_type": "stream",
     "text": [
      "<class 'pandas.core.frame.DataFrame'>\n",
      "RangeIndex: 891 entries, 0 to 890\n",
      "Data columns (total 15 columns):\n",
      " #   Column       Non-Null Count  Dtype   \n",
      "---  ------       --------------  -----   \n",
      " 0   survived     891 non-null    int64   \n",
      " 1   pclass       891 non-null    int64   \n",
      " 2   sex          891 non-null    object  \n",
      " 3   age          714 non-null    float64 \n",
      " 4   sibsp        891 non-null    int64   \n",
      " 5   parch        891 non-null    int64   \n",
      " 6   fare         891 non-null    float64 \n",
      " 7   embarked     889 non-null    object  \n",
      " 8   class        891 non-null    category\n",
      " 9   who          891 non-null    object  \n",
      " 10  adult_male   891 non-null    bool    \n",
      " 11  deck         203 non-null    category\n",
      " 12  embark_town  889 non-null    object  \n",
      " 13  alive        891 non-null    object  \n",
      " 14  alone        891 non-null    bool    \n",
      "dtypes: bool(2), category(2), float64(2), int64(4), object(5)\n",
      "memory usage: 80.7+ KB\n"
     ]
    }
   ],
   "source": [
    "#Helpful for cross-checking column datatypes and whether the column contains any null values or not\n",
    "df.info()"
   ]
  },
  {
   "cell_type": "markdown",
   "id": "bab63059",
   "metadata": {},
   "source": [
    "### From the above, we can observe that the following columns have null values in them\n",
    "1. age\n",
    "2. embarked\n",
    "3. deck\n",
    "4. embark_town"
   ]
  },
  {
   "cell_type": "code",
   "execution_count": 8,
   "id": "8c756552",
   "metadata": {},
   "outputs": [
    {
     "data": {
      "text/html": [
       "<div>\n",
       "<style scoped>\n",
       "    .dataframe tbody tr th:only-of-type {\n",
       "        vertical-align: middle;\n",
       "    }\n",
       "\n",
       "    .dataframe tbody tr th {\n",
       "        vertical-align: top;\n",
       "    }\n",
       "\n",
       "    .dataframe thead th {\n",
       "        text-align: right;\n",
       "    }\n",
       "</style>\n",
       "<table border=\"1\" class=\"dataframe\">\n",
       "  <thead>\n",
       "    <tr style=\"text-align: right;\">\n",
       "      <th></th>\n",
       "      <th>survived</th>\n",
       "      <th>pclass</th>\n",
       "      <th>age</th>\n",
       "      <th>sibsp</th>\n",
       "      <th>parch</th>\n",
       "      <th>fare</th>\n",
       "    </tr>\n",
       "  </thead>\n",
       "  <tbody>\n",
       "    <tr>\n",
       "      <th>count</th>\n",
       "      <td>891.000000</td>\n",
       "      <td>891.000000</td>\n",
       "      <td>714.000000</td>\n",
       "      <td>891.000000</td>\n",
       "      <td>891.000000</td>\n",
       "      <td>891.000000</td>\n",
       "    </tr>\n",
       "    <tr>\n",
       "      <th>mean</th>\n",
       "      <td>0.383838</td>\n",
       "      <td>2.308642</td>\n",
       "      <td>29.699118</td>\n",
       "      <td>0.523008</td>\n",
       "      <td>0.381594</td>\n",
       "      <td>32.204208</td>\n",
       "    </tr>\n",
       "    <tr>\n",
       "      <th>std</th>\n",
       "      <td>0.486592</td>\n",
       "      <td>0.836071</td>\n",
       "      <td>14.526497</td>\n",
       "      <td>1.102743</td>\n",
       "      <td>0.806057</td>\n",
       "      <td>49.693429</td>\n",
       "    </tr>\n",
       "    <tr>\n",
       "      <th>min</th>\n",
       "      <td>0.000000</td>\n",
       "      <td>1.000000</td>\n",
       "      <td>0.420000</td>\n",
       "      <td>0.000000</td>\n",
       "      <td>0.000000</td>\n",
       "      <td>0.000000</td>\n",
       "    </tr>\n",
       "    <tr>\n",
       "      <th>25%</th>\n",
       "      <td>0.000000</td>\n",
       "      <td>2.000000</td>\n",
       "      <td>20.125000</td>\n",
       "      <td>0.000000</td>\n",
       "      <td>0.000000</td>\n",
       "      <td>7.910400</td>\n",
       "    </tr>\n",
       "    <tr>\n",
       "      <th>50%</th>\n",
       "      <td>0.000000</td>\n",
       "      <td>3.000000</td>\n",
       "      <td>28.000000</td>\n",
       "      <td>0.000000</td>\n",
       "      <td>0.000000</td>\n",
       "      <td>14.454200</td>\n",
       "    </tr>\n",
       "    <tr>\n",
       "      <th>75%</th>\n",
       "      <td>1.000000</td>\n",
       "      <td>3.000000</td>\n",
       "      <td>38.000000</td>\n",
       "      <td>1.000000</td>\n",
       "      <td>0.000000</td>\n",
       "      <td>31.000000</td>\n",
       "    </tr>\n",
       "    <tr>\n",
       "      <th>max</th>\n",
       "      <td>1.000000</td>\n",
       "      <td>3.000000</td>\n",
       "      <td>80.000000</td>\n",
       "      <td>8.000000</td>\n",
       "      <td>6.000000</td>\n",
       "      <td>512.329200</td>\n",
       "    </tr>\n",
       "  </tbody>\n",
       "</table>\n",
       "</div>"
      ],
      "text/plain": [
       "         survived      pclass         age       sibsp       parch        fare\n",
       "count  891.000000  891.000000  714.000000  891.000000  891.000000  891.000000\n",
       "mean     0.383838    2.308642   29.699118    0.523008    0.381594   32.204208\n",
       "std      0.486592    0.836071   14.526497    1.102743    0.806057   49.693429\n",
       "min      0.000000    1.000000    0.420000    0.000000    0.000000    0.000000\n",
       "25%      0.000000    2.000000   20.125000    0.000000    0.000000    7.910400\n",
       "50%      0.000000    3.000000   28.000000    0.000000    0.000000   14.454200\n",
       "75%      1.000000    3.000000   38.000000    1.000000    0.000000   31.000000\n",
       "max      1.000000    3.000000   80.000000    8.000000    6.000000  512.329200"
      ]
     },
     "execution_count": 8,
     "metadata": {},
     "output_type": "execute_result"
    }
   ],
   "source": [
    "#Min and max can be observed to get an idea about potential outliers\n",
    "#50% here means the 50th percentile - Also known as the median\n",
    "#Std here means the standard deviation\n",
    "#Describe() method provides the five-number summary, which is a very important set of statistical metrics\n",
    "df.describe()"
   ]
  },
  {
   "cell_type": "markdown",
   "id": "09b1164c",
   "metadata": {},
   "source": [
    "# 4. A brief about missing data(null values - in technical terms)\n",
    "\n",
    "In real-world datasets, it is common to come across a few(***more commonly, a lot of***) missing values within them.\n",
    "\n",
    "This could be caused by reasons such as :\n",
    "1. Corruption of data - e.g During data transfer from one source to another\n",
    "2. Failure to record data - Could be a network failure, or an issue in the data capturing device, e.g a sensor\n",
    "3. Failure of validation checks while capturing data - e.g Allowing empty fields while submitting an online form\n",
    "\n",
    "**❓But why should I be bothered about these missing values in my dataset?** \n",
    "\n",
    "Well, if you don't deal with them beforehand, then they will lead to errorneous & misleading analysis results, and will definitely create issues while building machine learning models. Missing values may also introduce bias in your machine learning model, which is something you should avoid, or atleast minimize.\n",
    "\n",
    "**❓Okay, makes sense. So what are the different methods of dealing with them?**\n",
    "\n",
    "1. Delete the complete record/observation wherever the null value occurs - Problematic as it leads to data loss\n",
    "2. Delete the complete column/feature which contains atleast one null value - Again, not really effective. Unless there is an extremely high proportion of missing values in the column - Maybe more than 90%?\n",
    "> ***[Imputation](https://en.wikipedia.org/wiki/Imputation_(statistics))*** is the process of replacing missing data with substituted values\n",
    "3. Impute by either mean or median - The statistical approach\n",
    "4. Utilize a machine learning algorithm to find the optimal value for imputation\n",
    "\n",
    "...and many more\n",
    "\n",
    "To dive more into the topic, you can read through the following references:\n",
    "1. [Don’t let missing values ruin your analysis output, Deal with them!](https://towardsdatascience.com/dont-let-missing-values-ruin-your-analysis-output-deal-with-them-5d9c7686366c) - By Leopold d'Avezac\n",
    "2. [7 Ways to Handle Missing Values in Machine Learning](https://towardsdatascience.com/7-ways-to-handle-missing-values-in-machine-learning-1a6326adf79e) - By Satyam Kumar"
   ]
  },
  {
   "cell_type": "code",
   "execution_count": 9,
   "id": "1ea4f023",
   "metadata": {},
   "outputs": [
    {
     "data": {
      "text/html": [
       "<div>\n",
       "<style scoped>\n",
       "    .dataframe tbody tr th:only-of-type {\n",
       "        vertical-align: middle;\n",
       "    }\n",
       "\n",
       "    .dataframe tbody tr th {\n",
       "        vertical-align: top;\n",
       "    }\n",
       "\n",
       "    .dataframe thead th {\n",
       "        text-align: right;\n",
       "    }\n",
       "</style>\n",
       "<table border=\"1\" class=\"dataframe\">\n",
       "  <thead>\n",
       "    <tr style=\"text-align: right;\">\n",
       "      <th></th>\n",
       "      <th>survived</th>\n",
       "      <th>pclass</th>\n",
       "      <th>sex</th>\n",
       "      <th>age</th>\n",
       "      <th>sibsp</th>\n",
       "      <th>parch</th>\n",
       "      <th>fare</th>\n",
       "      <th>embarked</th>\n",
       "      <th>class</th>\n",
       "      <th>who</th>\n",
       "      <th>adult_male</th>\n",
       "      <th>deck</th>\n",
       "      <th>embark_town</th>\n",
       "      <th>alive</th>\n",
       "      <th>alone</th>\n",
       "    </tr>\n",
       "  </thead>\n",
       "  <tbody>\n",
       "    <tr>\n",
       "      <th>0</th>\n",
       "      <td>False</td>\n",
       "      <td>False</td>\n",
       "      <td>False</td>\n",
       "      <td>False</td>\n",
       "      <td>False</td>\n",
       "      <td>False</td>\n",
       "      <td>False</td>\n",
       "      <td>False</td>\n",
       "      <td>False</td>\n",
       "      <td>False</td>\n",
       "      <td>False</td>\n",
       "      <td>True</td>\n",
       "      <td>False</td>\n",
       "      <td>False</td>\n",
       "      <td>False</td>\n",
       "    </tr>\n",
       "    <tr>\n",
       "      <th>1</th>\n",
       "      <td>False</td>\n",
       "      <td>False</td>\n",
       "      <td>False</td>\n",
       "      <td>False</td>\n",
       "      <td>False</td>\n",
       "      <td>False</td>\n",
       "      <td>False</td>\n",
       "      <td>False</td>\n",
       "      <td>False</td>\n",
       "      <td>False</td>\n",
       "      <td>False</td>\n",
       "      <td>False</td>\n",
       "      <td>False</td>\n",
       "      <td>False</td>\n",
       "      <td>False</td>\n",
       "    </tr>\n",
       "    <tr>\n",
       "      <th>2</th>\n",
       "      <td>False</td>\n",
       "      <td>False</td>\n",
       "      <td>False</td>\n",
       "      <td>False</td>\n",
       "      <td>False</td>\n",
       "      <td>False</td>\n",
       "      <td>False</td>\n",
       "      <td>False</td>\n",
       "      <td>False</td>\n",
       "      <td>False</td>\n",
       "      <td>False</td>\n",
       "      <td>True</td>\n",
       "      <td>False</td>\n",
       "      <td>False</td>\n",
       "      <td>False</td>\n",
       "    </tr>\n",
       "    <tr>\n",
       "      <th>3</th>\n",
       "      <td>False</td>\n",
       "      <td>False</td>\n",
       "      <td>False</td>\n",
       "      <td>False</td>\n",
       "      <td>False</td>\n",
       "      <td>False</td>\n",
       "      <td>False</td>\n",
       "      <td>False</td>\n",
       "      <td>False</td>\n",
       "      <td>False</td>\n",
       "      <td>False</td>\n",
       "      <td>False</td>\n",
       "      <td>False</td>\n",
       "      <td>False</td>\n",
       "      <td>False</td>\n",
       "    </tr>\n",
       "    <tr>\n",
       "      <th>4</th>\n",
       "      <td>False</td>\n",
       "      <td>False</td>\n",
       "      <td>False</td>\n",
       "      <td>False</td>\n",
       "      <td>False</td>\n",
       "      <td>False</td>\n",
       "      <td>False</td>\n",
       "      <td>False</td>\n",
       "      <td>False</td>\n",
       "      <td>False</td>\n",
       "      <td>False</td>\n",
       "      <td>True</td>\n",
       "      <td>False</td>\n",
       "      <td>False</td>\n",
       "      <td>False</td>\n",
       "    </tr>\n",
       "    <tr>\n",
       "      <th>...</th>\n",
       "      <td>...</td>\n",
       "      <td>...</td>\n",
       "      <td>...</td>\n",
       "      <td>...</td>\n",
       "      <td>...</td>\n",
       "      <td>...</td>\n",
       "      <td>...</td>\n",
       "      <td>...</td>\n",
       "      <td>...</td>\n",
       "      <td>...</td>\n",
       "      <td>...</td>\n",
       "      <td>...</td>\n",
       "      <td>...</td>\n",
       "      <td>...</td>\n",
       "      <td>...</td>\n",
       "    </tr>\n",
       "    <tr>\n",
       "      <th>886</th>\n",
       "      <td>False</td>\n",
       "      <td>False</td>\n",
       "      <td>False</td>\n",
       "      <td>False</td>\n",
       "      <td>False</td>\n",
       "      <td>False</td>\n",
       "      <td>False</td>\n",
       "      <td>False</td>\n",
       "      <td>False</td>\n",
       "      <td>False</td>\n",
       "      <td>False</td>\n",
       "      <td>True</td>\n",
       "      <td>False</td>\n",
       "      <td>False</td>\n",
       "      <td>False</td>\n",
       "    </tr>\n",
       "    <tr>\n",
       "      <th>887</th>\n",
       "      <td>False</td>\n",
       "      <td>False</td>\n",
       "      <td>False</td>\n",
       "      <td>False</td>\n",
       "      <td>False</td>\n",
       "      <td>False</td>\n",
       "      <td>False</td>\n",
       "      <td>False</td>\n",
       "      <td>False</td>\n",
       "      <td>False</td>\n",
       "      <td>False</td>\n",
       "      <td>False</td>\n",
       "      <td>False</td>\n",
       "      <td>False</td>\n",
       "      <td>False</td>\n",
       "    </tr>\n",
       "    <tr>\n",
       "      <th>888</th>\n",
       "      <td>False</td>\n",
       "      <td>False</td>\n",
       "      <td>False</td>\n",
       "      <td>True</td>\n",
       "      <td>False</td>\n",
       "      <td>False</td>\n",
       "      <td>False</td>\n",
       "      <td>False</td>\n",
       "      <td>False</td>\n",
       "      <td>False</td>\n",
       "      <td>False</td>\n",
       "      <td>True</td>\n",
       "      <td>False</td>\n",
       "      <td>False</td>\n",
       "      <td>False</td>\n",
       "    </tr>\n",
       "    <tr>\n",
       "      <th>889</th>\n",
       "      <td>False</td>\n",
       "      <td>False</td>\n",
       "      <td>False</td>\n",
       "      <td>False</td>\n",
       "      <td>False</td>\n",
       "      <td>False</td>\n",
       "      <td>False</td>\n",
       "      <td>False</td>\n",
       "      <td>False</td>\n",
       "      <td>False</td>\n",
       "      <td>False</td>\n",
       "      <td>False</td>\n",
       "      <td>False</td>\n",
       "      <td>False</td>\n",
       "      <td>False</td>\n",
       "    </tr>\n",
       "    <tr>\n",
       "      <th>890</th>\n",
       "      <td>False</td>\n",
       "      <td>False</td>\n",
       "      <td>False</td>\n",
       "      <td>False</td>\n",
       "      <td>False</td>\n",
       "      <td>False</td>\n",
       "      <td>False</td>\n",
       "      <td>False</td>\n",
       "      <td>False</td>\n",
       "      <td>False</td>\n",
       "      <td>False</td>\n",
       "      <td>True</td>\n",
       "      <td>False</td>\n",
       "      <td>False</td>\n",
       "      <td>False</td>\n",
       "    </tr>\n",
       "  </tbody>\n",
       "</table>\n",
       "<p>891 rows × 15 columns</p>\n",
       "</div>"
      ],
      "text/plain": [
       "     survived  pclass    sex    age  sibsp  parch   fare  embarked  class  \\\n",
       "0       False   False  False  False  False  False  False     False  False   \n",
       "1       False   False  False  False  False  False  False     False  False   \n",
       "2       False   False  False  False  False  False  False     False  False   \n",
       "3       False   False  False  False  False  False  False     False  False   \n",
       "4       False   False  False  False  False  False  False     False  False   \n",
       "..        ...     ...    ...    ...    ...    ...    ...       ...    ...   \n",
       "886     False   False  False  False  False  False  False     False  False   \n",
       "887     False   False  False  False  False  False  False     False  False   \n",
       "888     False   False  False   True  False  False  False     False  False   \n",
       "889     False   False  False  False  False  False  False     False  False   \n",
       "890     False   False  False  False  False  False  False     False  False   \n",
       "\n",
       "       who  adult_male   deck  embark_town  alive  alone  \n",
       "0    False       False   True        False  False  False  \n",
       "1    False       False  False        False  False  False  \n",
       "2    False       False   True        False  False  False  \n",
       "3    False       False  False        False  False  False  \n",
       "4    False       False   True        False  False  False  \n",
       "..     ...         ...    ...          ...    ...    ...  \n",
       "886  False       False   True        False  False  False  \n",
       "887  False       False  False        False  False  False  \n",
       "888  False       False   True        False  False  False  \n",
       "889  False       False  False        False  False  False  \n",
       "890  False       False   True        False  False  False  \n",
       "\n",
       "[891 rows x 15 columns]"
      ]
     },
     "execution_count": 9,
     "metadata": {},
     "output_type": "execute_result"
    }
   ],
   "source": [
    "# A quick way to see whether a data point in our dataframe is null or not, is by using the isnull() method\n",
    "df.isnull()"
   ]
  },
  {
   "cell_type": "markdown",
   "id": "c31f39c2",
   "metadata": {},
   "source": [
    "### In our case, the isnull() method isn't very helpful when used only by itself, since it only provides a boolean value of either True or False for each datapoint corresponding to its nullity"
   ]
  },
  {
   "cell_type": "code",
   "execution_count": 10,
   "id": "0426d144",
   "metadata": {},
   "outputs": [
    {
     "data": {
      "text/plain": [
       "deck           688\n",
       "age            177\n",
       "embarked         2\n",
       "embark_town      2\n",
       "survived         0\n",
       "pclass           0\n",
       "sex              0\n",
       "sibsp            0\n",
       "parch            0\n",
       "fare             0\n",
       "class            0\n",
       "who              0\n",
       "adult_male       0\n",
       "alive            0\n",
       "alone            0\n",
       "dtype: int64"
      ]
     },
     "execution_count": 10,
     "metadata": {},
     "output_type": "execute_result"
    }
   ],
   "source": [
    "#Instead, let's use isnull().sum()\n",
    "#This provides a count of null values against each column in our dataframe\n",
    "df.isnull().sum().sort_values(ascending=False)"
   ]
  },
  {
   "cell_type": "markdown",
   "id": "d633b1f1",
   "metadata": {},
   "source": [
    "### Let's try to visualize the occurence of missing values using a plot"
   ]
  },
  {
   "cell_type": "code",
   "execution_count": 11,
   "id": "9fadc147",
   "metadata": {},
   "outputs": [
    {
     "data": {
      "text/plain": [
       "<AxesSubplot:>"
      ]
     },
     "execution_count": 11,
     "metadata": {},
     "output_type": "execute_result"
    },
    {
     "data": {
      "image/png": "[encoded data removed]",
      "text/plain": [
       "<Figure size 432x288 with 1 Axes>"
      ]
     },
     "metadata": {
      "needs_background": "light"
     },
     "output_type": "display_data"
    }
   ],
   "source": [
    "sns.heatmap(df.isnull(), #Input data\n",
    "           yticklabels = False, #Ensures that labels on y-axis are removed\n",
    "           cbar = False, #Turns off color-bar. Color-bar is used to show the gradient specification for a heatmap\n",
    "           cmap = 'viridis') #Color scheme for the heatmap"
   ]
  },
  {
   "cell_type": "markdown",
   "id": "b9fec81d",
   "metadata": {},
   "source": [
    "## Tip: Using the missingno Python library for easy and quick interpretation of nullity in the dataset\n",
    "\n",
    "**Credits**: https://github.com/ResidentMario/missingno"
   ]
  },
  {
   "cell_type": "code",
   "execution_count": 12,
   "id": "ea933a54",
   "metadata": {
    "scrolled": true
   },
   "outputs": [
    {
     "name": "stdout",
     "output_type": "stream",
     "text": [
      "Requirement already satisfied: missingno in /Users/abhishekdutta/opt/anaconda3/envs/ml/lib/python3.9/site-packages (0.5.0)\n",
      "Requirement already satisfied: seaborn in /Users/abhishekdutta/opt/anaconda3/envs/ml/lib/python3.9/site-packages (from missingno) (0.11.2)\n",
      "Requirement already satisfied: scipy in /Users/abhishekdutta/opt/anaconda3/envs/ml/lib/python3.9/site-packages (from missingno) (1.7.3)\n",
      "Requirement already satisfied: numpy in /Users/abhishekdutta/opt/anaconda3/envs/ml/lib/python3.9/site-packages (from missingno) (1.21.2)\n",
      "Requirement already satisfied: matplotlib in /Users/abhishekdutta/opt/anaconda3/envs/ml/lib/python3.9/site-packages (from missingno) (3.5.0)\n",
      "Requirement already satisfied: python-dateutil>=2.7 in /Users/abhishekdutta/opt/anaconda3/envs/ml/lib/python3.9/site-packages (from matplotlib->missingno) (2.8.2)\n",
      "Requirement already satisfied: cycler>=0.10 in /Users/abhishekdutta/opt/anaconda3/envs/ml/lib/python3.9/site-packages (from matplotlib->missingno) (0.11.0)\n",
      "Requirement already satisfied: fonttools>=4.22.0 in /Users/abhishekdutta/opt/anaconda3/envs/ml/lib/python3.9/site-packages (from matplotlib->missingno) (4.25.0)\n",
      "Requirement already satisfied: pyparsing>=2.2.1 in /Users/abhishekdutta/opt/anaconda3/envs/ml/lib/python3.9/site-packages (from matplotlib->missingno) (3.0.4)\n",
      "Requirement already satisfied: pillow>=6.2.0 in /Users/abhishekdutta/opt/anaconda3/envs/ml/lib/python3.9/site-packages (from matplotlib->missingno) (8.4.0)\n",
      "Requirement already satisfied: packaging>=20.0 in /Users/abhishekdutta/opt/anaconda3/envs/ml/lib/python3.9/site-packages (from matplotlib->missingno) (21.3)\n",
      "Requirement already satisfied: kiwisolver>=1.0.1 in /Users/abhishekdutta/opt/anaconda3/envs/ml/lib/python3.9/site-packages (from matplotlib->missingno) (1.3.1)\n",
      "Requirement already satisfied: six>=1.5 in /Users/abhishekdutta/opt/anaconda3/envs/ml/lib/python3.9/site-packages (from python-dateutil>=2.7->matplotlib->missingno) (1.16.0)\n",
      "Requirement already satisfied: pandas>=0.23 in /Users/abhishekdutta/opt/anaconda3/envs/ml/lib/python3.9/site-packages (from seaborn->missingno) (1.3.5)\n",
      "Requirement already satisfied: pytz>=2017.3 in /Users/abhishekdutta/opt/anaconda3/envs/ml/lib/python3.9/site-packages (from pandas>=0.23->seaborn->missingno) (2021.3)\n"
     ]
    }
   ],
   "source": [
    "#You can install the library by running the below command\n",
    "!pip install missingno"
   ]
  },
  {
   "cell_type": "code",
   "execution_count": 13,
   "id": "ef1a22c2",
   "metadata": {},
   "outputs": [],
   "source": [
    "import missingno as msno"
   ]
  },
  {
   "cell_type": "code",
   "execution_count": 14,
   "id": "e516ce7c",
   "metadata": {
    "scrolled": false
   },
   "outputs": [
    {
     "data": {
      "text/plain": [
       "<AxesSubplot:>"
      ]
     },
     "execution_count": 14,
     "metadata": {},
     "output_type": "execute_result"
    },
    {
     "data": {
      "image/png": "[encoded data removed]",
      "text/plain": [
       "<Figure size 1800x720 with 2 Axes>"
      ]
     },
     "metadata": {
      "needs_background": "light"
     },
     "output_type": "display_data"
    }
   ],
   "source": [
    "#Nullity Matrix\n",
    "msno.matrix(df)"
   ]
  },
  {
   "cell_type": "markdown",
   "id": "f04d80b0",
   "metadata": {},
   "source": [
    "1. The white lines within the columns indicate missing value\n",
    "2. The line at the extreme right(also called the **sparkline**) is an indicator of the number of columns having missing value(s)\n",
    "3. The sparkline at the extreme right summarizes also points out the rows with the maximum and minimum nullity in the dataset."
   ]
  },
  {
   "cell_type": "code",
   "execution_count": 15,
   "id": "92634279",
   "metadata": {
    "scrolled": false
   },
   "outputs": [
    {
     "data": {
      "text/plain": [
       "<AxesSubplot:>"
      ]
     },
     "execution_count": 15,
     "metadata": {},
     "output_type": "execute_result"
    },
    {
     "data": {
      "image/png": "[encoded data removed]",
      "text/plain": [
       "<Figure size 1800x720 with 3 Axes>"
      ]
     },
     "metadata": {
      "needs_background": "light"
     },
     "output_type": "display_data"
    }
   ],
   "source": [
    "#Bar\n",
    "msno.bar(df)"
   ]
  },
  {
   "cell_type": "markdown",
   "id": "0bec5590",
   "metadata": {},
   "source": [
    "# 5. Check for class imbalance in the target column\n",
    "\n",
    "As per the problem statement, the objective is to build a predictive model that tells us whether a passenger survived or not. This is captured in the 'survived' feature, and we need to have a look at how the classes in our target column are distributed. \n",
    "\n",
    "**❓But why should we check this?** \n",
    "\n",
    "It is essential to know the class distribution within the target, so that we know upfront whether there is a class imbalance or not. A class imbalance means that one kind of class occurs more frequently than the other one(s). Standard classification algorithms might provide inaccurate predictions if the class imbalance is not treated. It completely depends on the problem statement whether a class imbalance needs to be treated or not, or what kind of metrics we want to use for measuring the classification model's performance. In a lot of use-cases, class imbalance would exist but for evaluating the classification performance, we would want to look at other metrics apart from accuracy, such as **precision or recall.**\n",
    "\n",
    "For example, predicting the existence of a disease - here, the minority class becomes the actual occurence of the disease. So, accuracy would be an incorrect metric for evaluation of this kind of a classification model."
   ]
  },
  {
   "cell_type": "code",
   "execution_count": 16,
   "id": "13eadad9",
   "metadata": {},
   "outputs": [
    {
     "data": {
      "text/plain": [
       "<AxesSubplot:xlabel='survived', ylabel='count'>"
      ]
     },
     "execution_count": 16,
     "metadata": {},
     "output_type": "execute_result"
    },
    {
     "data": {
      "image/png": "[encoded data removed]",
      "text/plain": [
       "<Figure size 432x288 with 1 Axes>"
      ]
     },
     "metadata": {},
     "output_type": "display_data"
    }
   ],
   "source": [
    "sns.set_style('whitegrid')\n",
    "sns.countplot(x = 'survived',\n",
    "              data = df)"
   ]
  },
  {
   "cell_type": "code",
   "execution_count": 17,
   "id": "57066588",
   "metadata": {},
   "outputs": [
    {
     "data": {
      "text/plain": [
       "0    549\n",
       "1    342\n",
       "Name: survived, dtype: int64"
      ]
     },
     "execution_count": 17,
     "metadata": {},
     "output_type": "execute_result"
    }
   ],
   "source": [
    "#Check exact values\n",
    "df['survived'].value_counts()"
   ]
  },
  {
   "cell_type": "markdown",
   "id": "6cf4fda2",
   "metadata": {},
   "source": [
    "342 passengers survived, while the rest of the 549 passengers did not."
   ]
  },
  {
   "cell_type": "markdown",
   "id": "d3acc203",
   "metadata": {},
   "source": [
    "# 6. Exploring individual features\n",
    "\n",
    "We'll be analyzing the features based on their type:\n",
    "1. Categorical features - class, who, embark_town\n",
    "2. Numerical features - age and fare\n"
   ]
  },
  {
   "cell_type": "markdown",
   "id": "d59494f2",
   "metadata": {},
   "source": [
    "## 6.1.1 Categorical feature - Class"
   ]
  },
  {
   "cell_type": "code",
   "execution_count": 18,
   "id": "b5aa11c0",
   "metadata": {},
   "outputs": [
    {
     "data": {
      "text/plain": [
       "Third     491\n",
       "First     216\n",
       "Second    184\n",
       "Name: class, dtype: int64"
      ]
     },
     "execution_count": 18,
     "metadata": {},
     "output_type": "execute_result"
    }
   ],
   "source": [
    "df['class'].value_counts()"
   ]
  },
  {
   "cell_type": "code",
   "execution_count": 19,
   "id": "b70db598",
   "metadata": {},
   "outputs": [
    {
     "data": {
      "text/html": [
       "<div>\n",
       "<style scoped>\n",
       "    .dataframe tbody tr th:only-of-type {\n",
       "        vertical-align: middle;\n",
       "    }\n",
       "\n",
       "    .dataframe tbody tr th {\n",
       "        vertical-align: top;\n",
       "    }\n",
       "\n",
       "    .dataframe thead th {\n",
       "        text-align: right;\n",
       "    }\n",
       "</style>\n",
       "<table border=\"1\" class=\"dataframe\">\n",
       "  <thead>\n",
       "    <tr style=\"text-align: right;\">\n",
       "      <th></th>\n",
       "      <th>class</th>\n",
       "      <th>survived</th>\n",
       "      <th>didnt_survive</th>\n",
       "    </tr>\n",
       "  </thead>\n",
       "  <tbody>\n",
       "    <tr>\n",
       "      <th>0</th>\n",
       "      <td>First</td>\n",
       "      <td>62.96%</td>\n",
       "      <td>37.04%</td>\n",
       "    </tr>\n",
       "    <tr>\n",
       "      <th>1</th>\n",
       "      <td>Second</td>\n",
       "      <td>47.28%</td>\n",
       "      <td>52.72%</td>\n",
       "    </tr>\n",
       "    <tr>\n",
       "      <th>2</th>\n",
       "      <td>Third</td>\n",
       "      <td>24.24%</td>\n",
       "      <td>75.76%</td>\n",
       "    </tr>\n",
       "  </tbody>\n",
       "</table>\n",
       "</div>"
      ],
      "text/plain": [
       "    class survived didnt_survive\n",
       "0   First   62.96%        37.04%\n",
       "1  Second   47.28%        52.72%\n",
       "2   Third   24.24%        75.76%"
      ]
     },
     "execution_count": 19,
     "metadata": {},
     "output_type": "execute_result"
    }
   ],
   "source": [
    "#Calculate the percentage of survived passengers, within each class category\n",
    "df_pclass = df[['class', 'survived']].groupby('class', as_index=False).mean().sort_values(by='survived',ascending=False)\n",
    "df_pclass['didnt_survive'] = abs(1 - df_pclass['survived']).apply(lambda x: str(round(x*100, 2)) + '%')\n",
    "df_pclass['survived'] = df_pclass['survived'].apply(lambda x: str(round(x*100, 2)) + '%')\n",
    "df_pclass"
   ]
  },
  {
   "cell_type": "code",
   "execution_count": 20,
   "id": "eb38a0ee",
   "metadata": {
    "scrolled": true
   },
   "outputs": [
    {
     "data": {
      "text/plain": [
       "<AxesSubplot:xlabel='survived', ylabel='count'>"
      ]
     },
     "execution_count": 20,
     "metadata": {},
     "output_type": "execute_result"
    },
    {
     "data": {
      "image/png": "[encoded data removed]",
      "text/plain": [
       "<Figure size 432x288 with 1 Axes>"
      ]
     },
     "metadata": {},
     "output_type": "display_data"
    }
   ],
   "source": [
    "#Visualizing using a multi-column barplot\n",
    "sns.set_style('whitegrid')\n",
    "sns.countplot(x = 'survived',\n",
    "              hue='class', \n",
    "              data = df,\n",
    "              palette = 'hls')"
   ]
  },
  {
   "cell_type": "markdown",
   "id": "81253287",
   "metadata": {},
   "source": [
    "1. Much more passengers from class 3 did not survive, as compared to class 1 and 2 passengers.\n",
    "2. Among the survived passengers, class 1 and class 2 passengers fared a little better than class 3 passengers."
   ]
  },
  {
   "cell_type": "markdown",
   "id": "4bb229bb",
   "metadata": {},
   "source": [
    "## 6.1.2 Categorical feature - ~Sex~ Who"
   ]
  },
  {
   "cell_type": "markdown",
   "id": "b2cb9d99",
   "metadata": {},
   "source": [
    "In our dataset, we have a feature named 'who' which denotes whether the passenger is a man, woman or child. We'll use this instead of the sex column because it covers children as a group as well."
   ]
  },
  {
   "cell_type": "code",
   "execution_count": 21,
   "id": "4d8fb992",
   "metadata": {},
   "outputs": [
    {
     "data": {
      "text/plain": [
       "man      537\n",
       "woman    271\n",
       "child     83\n",
       "Name: who, dtype: int64"
      ]
     },
     "execution_count": 21,
     "metadata": {},
     "output_type": "execute_result"
    }
   ],
   "source": [
    "df['who'].value_counts()"
   ]
  },
  {
   "cell_type": "code",
   "execution_count": 22,
   "id": "c6a737cc",
   "metadata": {},
   "outputs": [
    {
     "data": {
      "text/html": [
       "<div>\n",
       "<style scoped>\n",
       "    .dataframe tbody tr th:only-of-type {\n",
       "        vertical-align: middle;\n",
       "    }\n",
       "\n",
       "    .dataframe tbody tr th {\n",
       "        vertical-align: top;\n",
       "    }\n",
       "\n",
       "    .dataframe thead th {\n",
       "        text-align: right;\n",
       "    }\n",
       "</style>\n",
       "<table border=\"1\" class=\"dataframe\">\n",
       "  <thead>\n",
       "    <tr style=\"text-align: right;\">\n",
       "      <th></th>\n",
       "      <th>who</th>\n",
       "      <th>survived</th>\n",
       "      <th>didnt_survive</th>\n",
       "    </tr>\n",
       "  </thead>\n",
       "  <tbody>\n",
       "    <tr>\n",
       "      <th>2</th>\n",
       "      <td>woman</td>\n",
       "      <td>75.65%</td>\n",
       "      <td>24.35%</td>\n",
       "    </tr>\n",
       "    <tr>\n",
       "      <th>0</th>\n",
       "      <td>child</td>\n",
       "      <td>59.04%</td>\n",
       "      <td>40.96%</td>\n",
       "    </tr>\n",
       "    <tr>\n",
       "      <th>1</th>\n",
       "      <td>man</td>\n",
       "      <td>16.39%</td>\n",
       "      <td>83.61%</td>\n",
       "    </tr>\n",
       "  </tbody>\n",
       "</table>\n",
       "</div>"
      ],
      "text/plain": [
       "     who survived didnt_survive\n",
       "2  woman   75.65%        24.35%\n",
       "0  child   59.04%        40.96%\n",
       "1    man   16.39%        83.61%"
      ]
     },
     "execution_count": 22,
     "metadata": {},
     "output_type": "execute_result"
    }
   ],
   "source": [
    "#Calculate the percentage of survived passengers, as per their group(man, woman, child)\n",
    "df_who = df[['who', 'survived']].groupby('who', as_index=False).mean().sort_values(by='survived',ascending=False)\n",
    "df_who['didnt_survive'] = abs(1 - df_who['survived']).apply(lambda x: str(round(x*100, 2)) + '%')\n",
    "df_who['survived'] = df_who['survived'].apply(lambda x: str(round(x*100, 2)) + '%')\n",
    "df_who"
   ]
  },
  {
   "cell_type": "code",
   "execution_count": 23,
   "id": "486df232",
   "metadata": {},
   "outputs": [
    {
     "data": {
      "text/plain": [
       "<AxesSubplot:xlabel='survived', ylabel='count'>"
      ]
     },
     "execution_count": 23,
     "metadata": {},
     "output_type": "execute_result"
    },
    {
     "data": {
      "image/png": "[encoded data removed]",
      "text/plain": [
       "<Figure size 432x288 with 1 Axes>"
      ]
     },
     "metadata": {},
     "output_type": "display_data"
    }
   ],
   "source": [
    "#Visualizing using a multi-column barplot\n",
    "sns.set_style('whitegrid')\n",
    "sns.countplot(x = 'survived',\n",
    "              hue='who', \n",
    "              data = df,\n",
    "              palette = 'hls')"
   ]
  },
  {
   "cell_type": "markdown",
   "id": "92744b35",
   "metadata": {},
   "source": [
    "Women and children were given priority during the evacuation process and the above figure and statistics support this fact."
   ]
  },
  {
   "cell_type": "markdown",
   "id": "85eae2dc",
   "metadata": {},
   "source": [
    "## 6.1.3 Categorical feature - Embark Town"
   ]
  },
  {
   "cell_type": "code",
   "execution_count": 24,
   "id": "fd5fdccc",
   "metadata": {},
   "outputs": [
    {
     "data": {
      "text/plain": [
       "Southampton    644\n",
       "Cherbourg      168\n",
       "Queenstown      77\n",
       "Name: embark_town, dtype: int64"
      ]
     },
     "execution_count": 24,
     "metadata": {},
     "output_type": "execute_result"
    }
   ],
   "source": [
    "df['embark_town'].value_counts()"
   ]
  },
  {
   "cell_type": "code",
   "execution_count": 25,
   "id": "6273a2f2",
   "metadata": {},
   "outputs": [
    {
     "data": {
      "text/html": [
       "<div>\n",
       "<style scoped>\n",
       "    .dataframe tbody tr th:only-of-type {\n",
       "        vertical-align: middle;\n",
       "    }\n",
       "\n",
       "    .dataframe tbody tr th {\n",
       "        vertical-align: top;\n",
       "    }\n",
       "\n",
       "    .dataframe thead th {\n",
       "        text-align: right;\n",
       "    }\n",
       "</style>\n",
       "<table border=\"1\" class=\"dataframe\">\n",
       "  <thead>\n",
       "    <tr style=\"text-align: right;\">\n",
       "      <th></th>\n",
       "      <th>embark_town</th>\n",
       "      <th>survived</th>\n",
       "      <th>didnt_survive</th>\n",
       "    </tr>\n",
       "  </thead>\n",
       "  <tbody>\n",
       "    <tr>\n",
       "      <th>0</th>\n",
       "      <td>Cherbourg</td>\n",
       "      <td>55.36%</td>\n",
       "      <td>44.64%</td>\n",
       "    </tr>\n",
       "    <tr>\n",
       "      <th>1</th>\n",
       "      <td>Queenstown</td>\n",
       "      <td>38.96%</td>\n",
       "      <td>61.04%</td>\n",
       "    </tr>\n",
       "    <tr>\n",
       "      <th>2</th>\n",
       "      <td>Southampton</td>\n",
       "      <td>33.7%</td>\n",
       "      <td>66.3%</td>\n",
       "    </tr>\n",
       "  </tbody>\n",
       "</table>\n",
       "</div>"
      ],
      "text/plain": [
       "   embark_town survived didnt_survive\n",
       "0    Cherbourg   55.36%        44.64%\n",
       "1   Queenstown   38.96%        61.04%\n",
       "2  Southampton    33.7%         66.3%"
      ]
     },
     "execution_count": 25,
     "metadata": {},
     "output_type": "execute_result"
    }
   ],
   "source": [
    "#Calculate the percentage of survived passengers, as per embark town\n",
    "df_et = df[['embark_town', 'survived']].groupby('embark_town', as_index=False).mean().sort_values(by='survived',ascending=False)\n",
    "df_et['didnt_survive'] = abs(1 - df_et['survived']).apply(lambda x: str(round(x*100, 2)) + '%')\n",
    "df_et['survived'] = df_et['survived'].apply(lambda x: str(round(x*100, 2)) + '%')\n",
    "df_et"
   ]
  },
  {
   "cell_type": "code",
   "execution_count": 26,
   "id": "affecb82",
   "metadata": {},
   "outputs": [
    {
     "data": {
      "text/plain": [
       "<seaborn.axisgrid.FacetGrid at 0x7fdc513dae20>"
      ]
     },
     "execution_count": 26,
     "metadata": {},
     "output_type": "execute_result"
    },
    {
     "data": {
      "image/png": "[encoded data removed]",
      "text/plain": [
       "<Figure size 720x360 with 2 Axes>"
      ]
     },
     "metadata": {},
     "output_type": "display_data"
    }
   ],
   "source": [
    "sns.set_style('whitegrid')\n",
    "sns.catplot(x=\"embark_town\", \n",
    "            col=\"survived\", \n",
    "            kind=\"count\", data=df)"
   ]
  },
  {
   "cell_type": "markdown",
   "id": "d8cb6100",
   "metadata": {},
   "source": [
    "### How about we check the casuality distribution as per embark town, the passenger group and class considered together?"
   ]
  },
  {
   "cell_type": "code",
   "execution_count": 27,
   "id": "1c7b1798",
   "metadata": {},
   "outputs": [
    {
     "data": {
      "text/html": [
       "<div>\n",
       "<style scoped>\n",
       "    .dataframe tbody tr th:only-of-type {\n",
       "        vertical-align: middle;\n",
       "    }\n",
       "\n",
       "    .dataframe tbody tr th {\n",
       "        vertical-align: top;\n",
       "    }\n",
       "\n",
       "    .dataframe thead th {\n",
       "        text-align: right;\n",
       "    }\n",
       "</style>\n",
       "<table border=\"1\" class=\"dataframe\">\n",
       "  <thead>\n",
       "    <tr style=\"text-align: right;\">\n",
       "      <th></th>\n",
       "      <th>embark_town</th>\n",
       "      <th>class</th>\n",
       "      <th>who</th>\n",
       "      <th>casualities</th>\n",
       "    </tr>\n",
       "  </thead>\n",
       "  <tbody>\n",
       "    <tr>\n",
       "      <th>0</th>\n",
       "      <td>Southampton</td>\n",
       "      <td>Third</td>\n",
       "      <td>man</td>\n",
       "      <td>218</td>\n",
       "    </tr>\n",
       "    <tr>\n",
       "      <th>1</th>\n",
       "      <td>Southampton</td>\n",
       "      <td>Second</td>\n",
       "      <td>man</td>\n",
       "      <td>82</td>\n",
       "    </tr>\n",
       "    <tr>\n",
       "      <th>2</th>\n",
       "      <td>Southampton</td>\n",
       "      <td>First</td>\n",
       "      <td>man</td>\n",
       "      <td>51</td>\n",
       "    </tr>\n",
       "    <tr>\n",
       "      <th>3</th>\n",
       "      <td>Southampton</td>\n",
       "      <td>Third</td>\n",
       "      <td>woman</td>\n",
       "      <td>43</td>\n",
       "    </tr>\n",
       "    <tr>\n",
       "      <th>4</th>\n",
       "      <td>Southampton</td>\n",
       "      <td>Third</td>\n",
       "      <td>child</td>\n",
       "      <td>25</td>\n",
       "    </tr>\n",
       "    <tr>\n",
       "      <th>5</th>\n",
       "      <td>Southampton</td>\n",
       "      <td>Second</td>\n",
       "      <td>woman</td>\n",
       "      <td>6</td>\n",
       "    </tr>\n",
       "    <tr>\n",
       "      <th>6</th>\n",
       "      <td>Southampton</td>\n",
       "      <td>First</td>\n",
       "      <td>child</td>\n",
       "      <td>1</td>\n",
       "    </tr>\n",
       "    <tr>\n",
       "      <th>7</th>\n",
       "      <td>Southampton</td>\n",
       "      <td>First</td>\n",
       "      <td>woman</td>\n",
       "      <td>1</td>\n",
       "    </tr>\n",
       "    <tr>\n",
       "      <th>8</th>\n",
       "      <td>Southampton</td>\n",
       "      <td>Second</td>\n",
       "      <td>child</td>\n",
       "      <td>0</td>\n",
       "    </tr>\n",
       "    <tr>\n",
       "      <th>9</th>\n",
       "      <td>Queenstown</td>\n",
       "      <td>Third</td>\n",
       "      <td>man</td>\n",
       "      <td>32</td>\n",
       "    </tr>\n",
       "    <tr>\n",
       "      <th>10</th>\n",
       "      <td>Queenstown</td>\n",
       "      <td>Third</td>\n",
       "      <td>woman</td>\n",
       "      <td>9</td>\n",
       "    </tr>\n",
       "    <tr>\n",
       "      <th>11</th>\n",
       "      <td>Queenstown</td>\n",
       "      <td>Third</td>\n",
       "      <td>child</td>\n",
       "      <td>4</td>\n",
       "    </tr>\n",
       "    <tr>\n",
       "      <th>12</th>\n",
       "      <td>Queenstown</td>\n",
       "      <td>First</td>\n",
       "      <td>man</td>\n",
       "      <td>1</td>\n",
       "    </tr>\n",
       "    <tr>\n",
       "      <th>13</th>\n",
       "      <td>Queenstown</td>\n",
       "      <td>Second</td>\n",
       "      <td>man</td>\n",
       "      <td>1</td>\n",
       "    </tr>\n",
       "    <tr>\n",
       "      <th>14</th>\n",
       "      <td>Queenstown</td>\n",
       "      <td>First</td>\n",
       "      <td>child</td>\n",
       "      <td>0</td>\n",
       "    </tr>\n",
       "    <tr>\n",
       "      <th>15</th>\n",
       "      <td>Queenstown</td>\n",
       "      <td>First</td>\n",
       "      <td>woman</td>\n",
       "      <td>0</td>\n",
       "    </tr>\n",
       "    <tr>\n",
       "      <th>16</th>\n",
       "      <td>Queenstown</td>\n",
       "      <td>Second</td>\n",
       "      <td>child</td>\n",
       "      <td>0</td>\n",
       "    </tr>\n",
       "    <tr>\n",
       "      <th>17</th>\n",
       "      <td>Queenstown</td>\n",
       "      <td>Second</td>\n",
       "      <td>woman</td>\n",
       "      <td>0</td>\n",
       "    </tr>\n",
       "    <tr>\n",
       "      <th>18</th>\n",
       "      <td>Cherbourg</td>\n",
       "      <td>Third</td>\n",
       "      <td>man</td>\n",
       "      <td>31</td>\n",
       "    </tr>\n",
       "    <tr>\n",
       "      <th>19</th>\n",
       "      <td>Cherbourg</td>\n",
       "      <td>First</td>\n",
       "      <td>man</td>\n",
       "      <td>25</td>\n",
       "    </tr>\n",
       "    <tr>\n",
       "      <th>20</th>\n",
       "      <td>Cherbourg</td>\n",
       "      <td>Second</td>\n",
       "      <td>man</td>\n",
       "      <td>8</td>\n",
       "    </tr>\n",
       "    <tr>\n",
       "      <th>21</th>\n",
       "      <td>Cherbourg</td>\n",
       "      <td>Third</td>\n",
       "      <td>woman</td>\n",
       "      <td>6</td>\n",
       "    </tr>\n",
       "    <tr>\n",
       "      <th>22</th>\n",
       "      <td>Cherbourg</td>\n",
       "      <td>Third</td>\n",
       "      <td>child</td>\n",
       "      <td>4</td>\n",
       "    </tr>\n",
       "    <tr>\n",
       "      <th>23</th>\n",
       "      <td>Cherbourg</td>\n",
       "      <td>First</td>\n",
       "      <td>woman</td>\n",
       "      <td>1</td>\n",
       "    </tr>\n",
       "    <tr>\n",
       "      <th>24</th>\n",
       "      <td>Cherbourg</td>\n",
       "      <td>First</td>\n",
       "      <td>child</td>\n",
       "      <td>0</td>\n",
       "    </tr>\n",
       "    <tr>\n",
       "      <th>25</th>\n",
       "      <td>Cherbourg</td>\n",
       "      <td>Second</td>\n",
       "      <td>child</td>\n",
       "      <td>0</td>\n",
       "    </tr>\n",
       "    <tr>\n",
       "      <th>26</th>\n",
       "      <td>Cherbourg</td>\n",
       "      <td>Second</td>\n",
       "      <td>woman</td>\n",
       "      <td>0</td>\n",
       "    </tr>\n",
       "  </tbody>\n",
       "</table>\n",
       "</div>"
      ],
      "text/plain": [
       "    embark_town   class    who  casualities\n",
       "0   Southampton   Third    man          218\n",
       "1   Southampton  Second    man           82\n",
       "2   Southampton   First    man           51\n",
       "3   Southampton   Third  woman           43\n",
       "4   Southampton   Third  child           25\n",
       "5   Southampton  Second  woman            6\n",
       "6   Southampton   First  child            1\n",
       "7   Southampton   First  woman            1\n",
       "8   Southampton  Second  child            0\n",
       "9    Queenstown   Third    man           32\n",
       "10   Queenstown   Third  woman            9\n",
       "11   Queenstown   Third  child            4\n",
       "12   Queenstown   First    man            1\n",
       "13   Queenstown  Second    man            1\n",
       "14   Queenstown   First  child            0\n",
       "15   Queenstown   First  woman            0\n",
       "16   Queenstown  Second  child            0\n",
       "17   Queenstown  Second  woman            0\n",
       "18    Cherbourg   Third    man           31\n",
       "19    Cherbourg   First    man           25\n",
       "20    Cherbourg  Second    man            8\n",
       "21    Cherbourg   Third  woman            6\n",
       "22    Cherbourg   Third  child            4\n",
       "23    Cherbourg   First  woman            1\n",
       "24    Cherbourg   First  child            0\n",
       "25    Cherbourg  Second  child            0\n",
       "26    Cherbourg  Second  woman            0"
      ]
     },
     "execution_count": 27,
     "metadata": {},
     "output_type": "execute_result"
    }
   ],
   "source": [
    "df[df['survived'] == 0].groupby(['embark_town','class','who'], as_index=False).size().sort_values(by=['embark_town','size'],ascending=False).reset_index(drop=True).rename(columns={'size':'casualities'})"
   ]
  },
  {
   "cell_type": "markdown",
   "id": "a916d366",
   "metadata": {},
   "source": [
    "1. From the numbers above, the most casualities are men who embarked from Southampton as compared to the rest of the two towns.\n",
    "2. Also, most of the casualities from each of the embark towns belonged to third and second class passengers"
   ]
  },
  {
   "cell_type": "code",
   "execution_count": 28,
   "id": "1e913a34",
   "metadata": {},
   "outputs": [
    {
     "data": {
      "text/plain": [
       "<seaborn.axisgrid.FacetGrid at 0x7fdc515f6220>"
      ]
     },
     "execution_count": 28,
     "metadata": {},
     "output_type": "execute_result"
    },
    {
     "data": {
      "image/png": "[encoded data removed]",
      "text/plain": [
       "<Figure size 788.5x360 with 2 Axes>"
      ]
     },
     "metadata": {},
     "output_type": "display_data"
    }
   ],
   "source": [
    "sns.set_style('whitegrid')\n",
    "sns.catplot(x=\"embark_town\", hue=\"who\", \n",
    "            col=\"survived\", \n",
    "            kind=\"count\", data=df)"
   ]
  },
  {
   "cell_type": "code",
   "execution_count": 29,
   "id": "dc4910a9",
   "metadata": {},
   "outputs": [
    {
     "data": {
      "text/plain": [
       "<seaborn.axisgrid.FacetGrid at 0x7fdc513ced90>"
      ]
     },
     "execution_count": 29,
     "metadata": {},
     "output_type": "execute_result"
    },
    {
     "data": {
      "image/png": "[encoded data removed]",
      "text/plain": [
       "<Figure size 790x360 with 2 Axes>"
      ]
     },
     "metadata": {},
     "output_type": "display_data"
    }
   ],
   "source": [
    "sns.set_style('whitegrid')\n",
    "sns.catplot(x=\"embark_town\", hue=\"class\", \n",
    "            col=\"survived\", \n",
    "            kind=\"count\", data=df)"
   ]
  },
  {
   "cell_type": "markdown",
   "id": "f6f769f9",
   "metadata": {},
   "source": [
    "## 6.2 Numerical features - Age & Fare"
   ]
  },
  {
   "cell_type": "markdown",
   "id": "f94c9f20",
   "metadata": {},
   "source": [
    "### First, let's see if age and fare contain any outliers or not, using a handy plot called as a boxplot ###\n",
    "\n",
    "\n",
    "**❓But wait, what is an outlier?**\n",
    "\n",
    "An outlier is a datapoint which has an extreme/anomalous value and does not seem to fit into the majority of the dataset. In simple terms, an outlier is a standout from the crowd.\n",
    "\n",
    "Mathematically, they can be considered as those values which satisfy either of the below conditions:\n",
    "1. Value < 25th percentile - 1.5 * IQR\n",
    "2. Value > 75th percentile + 1.5 * IQR\n",
    "\n",
    "where IQR = 75th percentile - 25th percentile\n",
    "\n",
    "**❓Why do I need to remove outliers?**\n",
    "\n",
    "Outliers skew our data towards extremes and cause inaccurate model predictions. This is often part of the standard data cleaning process in the data analysis workflow.\n",
    "\n"
   ]
  },
  {
   "cell_type": "markdown",
   "id": "e96cfb31",
   "metadata": {},
   "source": [
    "## 6.2.1 Detecting outliers"
   ]
  },
  {
   "cell_type": "markdown",
   "id": "8de3597c",
   "metadata": {},
   "source": [
    "### Let's understand the basic structure of a box plot first. ###\n",
    "\n",
    "Source of the image: https://miro.medium.com/max/1838/1*2c21SkzJMf3frPXPAR_gZA.png"
   ]
  },
  {
   "attachments": {},
   "cell_type": "markdown",
   "id": "30bf8849",
   "metadata": {},
   "source": [
    "![Title](https://miro.medium.com/max/1838/1*2c21SkzJMf3frPXPAR_gZA.png)"
   ]
  },
  {
   "cell_type": "markdown",
   "id": "87c6d114",
   "metadata": {},
   "source": [
    "### Plotting the features now... ###"
   ]
  },
  {
   "cell_type": "code",
   "execution_count": 30,
   "id": "f980a258",
   "metadata": {
    "scrolled": true
   },
   "outputs": [
    {
     "data": {
      "text/plain": [
       "<AxesSubplot:xlabel='age'>"
      ]
     },
     "execution_count": 30,
     "metadata": {},
     "output_type": "execute_result"
    },
    {
     "data": {
      "image/png": "[encoded data removed]",
      "text/plain": [
       "<Figure size 432x288 with 1 Axes>"
      ]
     },
     "metadata": {},
     "output_type": "display_data"
    }
   ],
   "source": [
    "sns.boxplot(x=df['age'])"
   ]
  },
  {
   "cell_type": "code",
   "execution_count": 31,
   "id": "c8c99acc",
   "metadata": {},
   "outputs": [
    {
     "data": {
      "text/plain": [
       "<AxesSubplot:xlabel='fare'>"
      ]
     },
     "execution_count": 31,
     "metadata": {},
     "output_type": "execute_result"
    },
    {
     "data": {
      "image/png": "[encoded data removed]",
      "text/plain": [
       "<Figure size 432x288 with 1 Axes>"
      ]
     },
     "metadata": {},
     "output_type": "display_data"
    }
   ],
   "source": [
    "sns.boxplot(x=df['fare'])"
   ]
  },
  {
   "cell_type": "markdown",
   "id": "7222fac6",
   "metadata": {},
   "source": [
    "**Outliers definitely exist in both age and fare features!**"
   ]
  },
  {
   "cell_type": "markdown",
   "id": "a4442085",
   "metadata": {},
   "source": [
    "## 6.2.2 Identifying outlier records and removing them ##"
   ]
  },
  {
   "cell_type": "code",
   "execution_count": 32,
   "id": "8772eb7e",
   "metadata": {},
   "outputs": [],
   "source": [
    "def detect_outlier_rows(list_of_cols_to_check):\n",
    "    '''\n",
    "    This function takes a list of strings as input - These strings are supposed to be the numeric column names \n",
    "    for which outliers need to be checked.\n",
    "    \n",
    "    The function iterates through each of the items in the list, and calculates the outliers as per the standard\n",
    "    formula, and adds the index of the row to the outlier_indices variable\n",
    "    \n",
    "    Finally, the outlier_indices variable is returned by this function, denoting all the indices in our dataset\n",
    "    which contains an outlier in either of the input columns\n",
    "    '''\n",
    "    outlier_indices = []\n",
    "    for col in list_of_cols_to_check:\n",
    "        Q1 = np.percentile(df[col], 25)\n",
    "        Q3 = np.percentile(df[col], 75)\n",
    "        IQR = Q3 - Q1\n",
    "        #The '|' symbols acts as an OR condition\n",
    "        outlier_list = df[(df[col] < Q1 - 1.5 * IQR) | (df[col] > Q3 + 1.5 * IQR)].index\n",
    "        outlier_indices.extend(outlier_list)\n",
    "    return outlier_indices"
   ]
  },
  {
   "cell_type": "code",
   "execution_count": 33,
   "id": "0717f066",
   "metadata": {},
   "outputs": [
    {
     "name": "stdout",
     "output_type": "stream",
     "text": [
      "Number of rows before dropping the outliers:  891\n",
      "Number of rows after dropping the outliers:  775\n"
     ]
    }
   ],
   "source": [
    "outliers_to_be_dropped = detect_outlier_rows(['age','fare'])\n",
    "\n",
    "print('Number of rows before dropping the outliers: ',df.shape[0])\n",
    "df = df.drop(outliers_to_be_dropped, axis = 0).reset_index(drop=True)\n",
    "print('Number of rows after dropping the outliers: ',df.shape[0])"
   ]
  },
  {
   "cell_type": "markdown",
   "id": "9147dbb0",
   "metadata": {},
   "source": [
    "## 6.2.3 Viewing the correlation heatmap for age, fare and survived\n",
    "This plot for numerical variables helps us see if there is any correlation with the passenger survival or not"
   ]
  },
  {
   "cell_type": "code",
   "execution_count": 34,
   "id": "7a5780a7",
   "metadata": {},
   "outputs": [
    {
     "data": {
      "text/plain": [
       "<AxesSubplot:>"
      ]
     },
     "execution_count": 34,
     "metadata": {},
     "output_type": "execute_result"
    },
    {
     "data": {
      "image/png": "[encoded data removed]",
      "text/plain": [
       "<Figure size 432x288 with 2 Axes>"
      ]
     },
     "metadata": {},
     "output_type": "display_data"
    }
   ],
   "source": [
    "sns.heatmap(df[['age','fare','survived']].corr(), annot=True, cmap = 'YlGnBu')"
   ]
  },
  {
   "cell_type": "markdown",
   "id": "f9ca86ed",
   "metadata": {},
   "source": [
    "From the above plot, we can see that fare has a bit of substantial correlation with our survived feature. This makes sense because higher the passenger class, higher the fare is, and we've already seen that first class passengers are much more likely to survive as compared to second and third class passengers."
   ]
  },
  {
   "cell_type": "code",
   "execution_count": 35,
   "id": "8072e26d",
   "metadata": {},
   "outputs": [
    {
     "data": {
      "text/plain": [
       "<AxesSubplot:xlabel='class', ylabel='fare'>"
      ]
     },
     "execution_count": 35,
     "metadata": {},
     "output_type": "execute_result"
    },
    {
     "data": {
      "image/png": "[encoded data removed]",
      "text/plain": [
       "<Figure size 432x288 with 1 Axes>"
      ]
     },
     "metadata": {},
     "output_type": "display_data"
    }
   ],
   "source": [
    "sns.scatterplot(x=df['class'], y=df['fare'])"
   ]
  },
  {
   "cell_type": "markdown",
   "id": "36b61859",
   "metadata": {},
   "source": [
    "# Thank you for taking out the time to go through this notebook! \n",
    "\n",
    "I would love to hear feedback and suggestions from you. As I've just started getting my hands dirty on these kind of mini-projects, your feedback would be invaluable for me. \n",
    "\n",
    "You can reach me at https://www.linkedin.com/in/abhishekdutta404/ or on Kaggle, at https://www.kaggle.com/abhishekdutta1995"
   ]
  }
 ],
 "metadata": {
  "kernelspec": {
   "display_name": "Python 3 (ipykernel)",
   "language": "python",
   "name": "python3"
  },
  "language_info": {
   "codemirror_mode": {
    "name": "ipython",
    "version": 3
   },
   "file_extension": ".py",
   "mimetype": "text/x-python",
   "name": "python",
   "nbconvert_exporter": "python",
   "pygments_lexer": "ipython3",
   "version": "3.9.7"
  }
 },
 "nbformat": 4,
 "nbformat_minor": 5
}
